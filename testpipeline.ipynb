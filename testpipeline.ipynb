{
 "cells": [
  {
   "cell_type": "code",
   "execution_count": 1,
   "metadata": {},
   "outputs": [
    {
     "name": "stdout",
     "output_type": "stream",
     "text": [
      "Saved 10 random samples to new_unseen_data.csv\n"
     ]
    }
   ],
   "source": [
    "import numpy as np\n",
    "import pandas as pd\n",
    "from sklearn.datasets import load_iris\n",
    "\n",
    "# 1. Load the Iris dataset\n",
    "iris = load_iris()\n",
    "X, y = iris.data, iris.target\n",
    "\n",
    "# 2. Create a DataFrame with the features\n",
    "#    Columns are in the usual Iris order: [sepal_length, sepal_width, petal_length, petal_width]\n",
    "df = pd.DataFrame(\n",
    "    X, \n",
    "    columns=[\"sepal_length\", \"sepal_width\", \"petal_length\", \"petal_width\"]\n",
    ")\n",
    "\n",
    "# Optional: If you want to keep the 'target' column for reference, uncomment below:\n",
    "# df[\"target\"] = y\n",
    "\n",
    "# 3. Shuffle (randomize) all rows\n",
    "#    frac=1 means \"use the entire dataframe\"; random_state=42 for reproducibility\n",
    "df_shuffled = df.sample(frac=1, random_state=42).reset_index(drop=True)\n",
    "\n",
    "# 4. Select a subset of rows (e.g., first 10)\n",
    "subset = df_shuffled.iloc[:10]\n",
    "\n",
    "# 5. Save to CSV without an index column\n",
    "subset.to_csv(\"new_unseen_data.csv\", index=False)\n",
    "print(\"Saved 10 random samples to new_unseen_data.csv\")\n"
   ]
  },
  {
   "cell_type": "code",
   "execution_count": null,
   "metadata": {},
   "outputs": [],
   "source": []
  }
 ],
 "metadata": {
  "kernelspec": {
   "display_name": "tf_env",
   "language": "python",
   "name": "python3"
  },
  "language_info": {
   "codemirror_mode": {
    "name": "ipython",
    "version": 3
   },
   "file_extension": ".py",
   "mimetype": "text/x-python",
   "name": "python",
   "nbconvert_exporter": "python",
   "pygments_lexer": "ipython3",
   "version": "3.10.1"
  }
 },
 "nbformat": 4,
 "nbformat_minor": 2
}
